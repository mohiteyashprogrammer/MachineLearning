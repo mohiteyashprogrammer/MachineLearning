{
 "cells": [
  {
   "cell_type": "code",
   "execution_count": 1,
   "id": "f838839e",
   "metadata": {},
   "outputs": [],
   "source": [
    "import pandas as pd\n",
    "import numpy as np\n",
    "import seaborn as sns\n",
    "import matplotlib.pyplot as plt\n",
    "import re\n",
    "import statistics as st\n",
    "import warnings\n",
    "warnings.filterwarnings(\"ignore\")\n",
    "sns.set(rc={\"figure.figsize\":(15,6)})\n",
    "pd.pandas.set_option(\"display.max_columns\",None)"
   ]
  },
  {
   "cell_type": "code",
   "execution_count": 2,
   "id": "a1ea8caa",
   "metadata": {},
   "outputs": [],
   "source": [
    "data = pd.read_csv(\"https://gist.githubusercontent.com/jaidevd/23aef12e9bf56c618c41/raw/c05e98672b8d52fa0cb94aad80f75eb78342e5d4/books.csv\")"
   ]
  },
  {
   "cell_type": "code",
   "execution_count": 3,
   "id": "4806a000",
   "metadata": {},
   "outputs": [
    {
     "data": {
      "text/html": [
       "<div>\n",
       "<style scoped>\n",
       "    .dataframe tbody tr th:only-of-type {\n",
       "        vertical-align: middle;\n",
       "    }\n",
       "\n",
       "    .dataframe tbody tr th {\n",
       "        vertical-align: top;\n",
       "    }\n",
       "\n",
       "    .dataframe thead th {\n",
       "        text-align: right;\n",
       "    }\n",
       "</style>\n",
       "<table border=\"1\" class=\"dataframe\">\n",
       "  <thead>\n",
       "    <tr style=\"text-align: right;\">\n",
       "      <th></th>\n",
       "      <th>Title</th>\n",
       "      <th>Author</th>\n",
       "      <th>Genre</th>\n",
       "      <th>Height</th>\n",
       "      <th>Publisher</th>\n",
       "    </tr>\n",
       "  </thead>\n",
       "  <tbody>\n",
       "    <tr>\n",
       "      <th>0</th>\n",
       "      <td>Fundamentals of Wavelets</td>\n",
       "      <td>Goswami, Jaideva</td>\n",
       "      <td>signal_processing</td>\n",
       "      <td>228</td>\n",
       "      <td>Wiley</td>\n",
       "    </tr>\n",
       "    <tr>\n",
       "      <th>1</th>\n",
       "      <td>Data Smart</td>\n",
       "      <td>Foreman, John</td>\n",
       "      <td>data_science</td>\n",
       "      <td>235</td>\n",
       "      <td>Wiley</td>\n",
       "    </tr>\n",
       "    <tr>\n",
       "      <th>2</th>\n",
       "      <td>God Created the Integers</td>\n",
       "      <td>Hawking, Stephen</td>\n",
       "      <td>mathematics</td>\n",
       "      <td>197</td>\n",
       "      <td>Penguin</td>\n",
       "    </tr>\n",
       "    <tr>\n",
       "      <th>3</th>\n",
       "      <td>Superfreakonomics</td>\n",
       "      <td>Dubner, Stephen</td>\n",
       "      <td>economics</td>\n",
       "      <td>179</td>\n",
       "      <td>HarperCollins</td>\n",
       "    </tr>\n",
       "    <tr>\n",
       "      <th>4</th>\n",
       "      <td>Orientalism</td>\n",
       "      <td>Said, Edward</td>\n",
       "      <td>history</td>\n",
       "      <td>197</td>\n",
       "      <td>Penguin</td>\n",
       "    </tr>\n",
       "  </tbody>\n",
       "</table>\n",
       "</div>"
      ],
      "text/plain": [
       "                      Title            Author              Genre  Height  \\\n",
       "0  Fundamentals of Wavelets  Goswami, Jaideva  signal_processing     228   \n",
       "1                Data Smart     Foreman, John       data_science     235   \n",
       "2  God Created the Integers  Hawking, Stephen        mathematics     197   \n",
       "3         Superfreakonomics   Dubner, Stephen          economics     179   \n",
       "4               Orientalism      Said, Edward            history     197   \n",
       "\n",
       "       Publisher  \n",
       "0          Wiley  \n",
       "1          Wiley  \n",
       "2        Penguin  \n",
       "3  HarperCollins  \n",
       "4        Penguin  "
      ]
     },
     "execution_count": 3,
     "metadata": {},
     "output_type": "execute_result"
    }
   ],
   "source": [
    "data.head()"
   ]
  },
  {
   "cell_type": "code",
   "execution_count": 4,
   "id": "0dad39fc",
   "metadata": {},
   "outputs": [
    {
     "data": {
      "text/html": [
       "<div>\n",
       "<style scoped>\n",
       "    .dataframe tbody tr th:only-of-type {\n",
       "        vertical-align: middle;\n",
       "    }\n",
       "\n",
       "    .dataframe tbody tr th {\n",
       "        vertical-align: top;\n",
       "    }\n",
       "\n",
       "    .dataframe thead th {\n",
       "        text-align: right;\n",
       "    }\n",
       "</style>\n",
       "<table border=\"1\" class=\"dataframe\">\n",
       "  <thead>\n",
       "    <tr style=\"text-align: right;\">\n",
       "      <th></th>\n",
       "      <th>Title</th>\n",
       "      <th>Author</th>\n",
       "      <th>Genre</th>\n",
       "      <th>Height</th>\n",
       "      <th>Publisher</th>\n",
       "    </tr>\n",
       "  </thead>\n",
       "  <tbody>\n",
       "    <tr>\n",
       "      <th>206</th>\n",
       "      <td>Structure and Randomness</td>\n",
       "      <td>Tao, Terence</td>\n",
       "      <td>mathematics</td>\n",
       "      <td>252</td>\n",
       "      <td>NaN</td>\n",
       "    </tr>\n",
       "    <tr>\n",
       "      <th>207</th>\n",
       "      <td>Image Processing with MATLAB</td>\n",
       "      <td>Eddins, Steve</td>\n",
       "      <td>signal_processing</td>\n",
       "      <td>241</td>\n",
       "      <td>NaN</td>\n",
       "    </tr>\n",
       "    <tr>\n",
       "      <th>208</th>\n",
       "      <td>Animal Farm</td>\n",
       "      <td>Orwell, George</td>\n",
       "      <td>fiction</td>\n",
       "      <td>180</td>\n",
       "      <td>NaN</td>\n",
       "    </tr>\n",
       "    <tr>\n",
       "      <th>209</th>\n",
       "      <td>Idiot, The</td>\n",
       "      <td>Dostoevsky, Fyodor</td>\n",
       "      <td>fiction</td>\n",
       "      <td>197</td>\n",
       "      <td>NaN</td>\n",
       "    </tr>\n",
       "    <tr>\n",
       "      <th>210</th>\n",
       "      <td>Christmas Carol, A</td>\n",
       "      <td>Dickens, Charles</td>\n",
       "      <td>fiction</td>\n",
       "      <td>196</td>\n",
       "      <td>NaN</td>\n",
       "    </tr>\n",
       "  </tbody>\n",
       "</table>\n",
       "</div>"
      ],
      "text/plain": [
       "                            Title              Author              Genre  \\\n",
       "206      Structure and Randomness        Tao, Terence        mathematics   \n",
       "207  Image Processing with MATLAB       Eddins, Steve  signal_processing   \n",
       "208                   Animal Farm      Orwell, George            fiction   \n",
       "209                    Idiot, The  Dostoevsky, Fyodor            fiction   \n",
       "210            Christmas Carol, A    Dickens, Charles            fiction   \n",
       "\n",
       "     Height Publisher  \n",
       "206     252       NaN  \n",
       "207     241       NaN  \n",
       "208     180       NaN  \n",
       "209     197       NaN  \n",
       "210     196       NaN  "
      ]
     },
     "execution_count": 4,
     "metadata": {},
     "output_type": "execute_result"
    }
   ],
   "source": [
    "data.tail()"
   ]
  },
  {
   "cell_type": "code",
   "execution_count": 5,
   "id": "19675983",
   "metadata": {},
   "outputs": [
    {
     "data": {
      "text/plain": [
       "(211, 5)"
      ]
     },
     "execution_count": 5,
     "metadata": {},
     "output_type": "execute_result"
    }
   ],
   "source": [
    "data.shape"
   ]
  },
  {
   "cell_type": "code",
   "execution_count": 6,
   "id": "a9fe719b",
   "metadata": {},
   "outputs": [
    {
     "data": {
      "text/plain": [
       "0"
      ]
     },
     "execution_count": 6,
     "metadata": {},
     "output_type": "execute_result"
    }
   ],
   "source": [
    "data.duplicated().sum()"
   ]
  },
  {
   "cell_type": "code",
   "execution_count": 7,
   "id": "449d304e",
   "metadata": {},
   "outputs": [],
   "source": [
    "data.drop(\"Publisher\",axis=1,inplace=True)"
   ]
  },
  {
   "cell_type": "code",
   "execution_count": 13,
   "id": "b3dffacb",
   "metadata": {},
   "outputs": [],
   "source": [
    "data[\"Author\"] = data[\"Author\"].fillna(\"Steinbeck, John \")"
   ]
  },
  {
   "cell_type": "code",
   "execution_count": 14,
   "id": "9d07f62d",
   "metadata": {},
   "outputs": [],
   "source": [
    "data[\"tags\"] = data[\"Author\"] + data[\"Genre\"]"
   ]
  },
  {
   "cell_type": "code",
   "execution_count": 15,
   "id": "c529b941",
   "metadata": {},
   "outputs": [
    {
     "name": "stdout",
     "output_type": "stream",
     "text": [
      "<class 'pandas.core.frame.DataFrame'>\n",
      "RangeIndex: 211 entries, 0 to 210\n",
      "Data columns (total 5 columns):\n",
      " #   Column  Non-Null Count  Dtype \n",
      "---  ------  --------------  ----- \n",
      " 0   Title   211 non-null    object\n",
      " 1   Author  211 non-null    object\n",
      " 2   Genre   211 non-null    object\n",
      " 3   Height  211 non-null    int64 \n",
      " 4   tags    211 non-null    object\n",
      "dtypes: int64(1), object(4)\n",
      "memory usage: 8.4+ KB\n"
     ]
    }
   ],
   "source": [
    "data.info()"
   ]
  },
  {
   "cell_type": "code",
   "execution_count": 16,
   "id": "09b0afd4",
   "metadata": {},
   "outputs": [
    {
     "data": {
      "text/plain": [
       "Title     0\n",
       "Author    0\n",
       "Genre     0\n",
       "Height    0\n",
       "tags      0\n",
       "dtype: int64"
      ]
     },
     "execution_count": 16,
     "metadata": {},
     "output_type": "execute_result"
    }
   ],
   "source": [
    "data.isnull().sum()"
   ]
  },
  {
   "cell_type": "code",
   "execution_count": 19,
   "id": "3fbb8253",
   "metadata": {},
   "outputs": [],
   "source": [
    "data[\"tags\"] = data[\"tags\"].apply(lambda x:x.lower())"
   ]
  },
  {
   "cell_type": "code",
   "execution_count": 20,
   "id": "7a512aa7",
   "metadata": {},
   "outputs": [],
   "source": [
    "import nltk\n",
    "from nltk.stem.porter import PorterStemmer\n",
    "ps = PorterStemmer()"
   ]
  },
  {
   "cell_type": "code",
   "execution_count": 21,
   "id": "184e236e",
   "metadata": {},
   "outputs": [],
   "source": [
    "def stem(text):\n",
    "    y = []\n",
    "    for i in text.split():\n",
    "        y.append(ps.stem(i))\n",
    "    return \" \".join(y)"
   ]
  },
  {
   "cell_type": "code",
   "execution_count": 24,
   "id": "11bf4635",
   "metadata": {},
   "outputs": [],
   "source": [
    "data[\"tags\"]= data[\"tags\"].apply(stem)"
   ]
  },
  {
   "cell_type": "code",
   "execution_count": 25,
   "id": "9c06672c",
   "metadata": {},
   "outputs": [],
   "source": [
    "from sklearn.feature_extraction.text import CountVectorizer\n",
    "cv = CountVectorizer(stop_words=\"english\")"
   ]
  },
  {
   "cell_type": "code",
   "execution_count": 28,
   "id": "61643a1b",
   "metadata": {},
   "outputs": [],
   "source": [
    "vactors = cv.fit_transform(data[\"tags\"]).toarray()"
   ]
  },
  {
   "cell_type": "code",
   "execution_count": 31,
   "id": "daf69b94",
   "metadata": {},
   "outputs": [
    {
     "data": {
      "text/plain": [
       "array([[0, 0, 0, ..., 0, 0, 0],\n",
       "       [0, 0, 0, ..., 0, 0, 0],\n",
       "       [0, 0, 0, ..., 0, 0, 0],\n",
       "       ...,\n",
       "       [0, 0, 0, ..., 0, 0, 0],\n",
       "       [0, 0, 0, ..., 0, 0, 0],\n",
       "       [0, 0, 0, ..., 0, 0, 0]], dtype=int64)"
      ]
     },
     "execution_count": 31,
     "metadata": {},
     "output_type": "execute_result"
    }
   ],
   "source": [
    "vactors"
   ]
  },
  {
   "cell_type": "code",
   "execution_count": 33,
   "id": "b8c314b2",
   "metadata": {},
   "outputs": [
    {
     "data": {
      "text/plain": [
       "['abrahamhistori',\n",
       " 'ackroyd',\n",
       " 'aczel',\n",
       " 'adameconom',\n",
       " 'adolfnonfict',\n",
       " 'albertfict',\n",
       " 'aldousfict',\n",
       " 'alexhistori',\n",
       " 'alfredeconom',\n",
       " 'allendata_sci',\n",
       " 'allenfict',\n",
       " 'amartyaeconom',\n",
       " 'amartyanonfict',\n",
       " 'amartyaphilosophi',\n",
       " 'amirsci',\n",
       " 'amitavfict',\n",
       " 'andrewcomputer_sci',\n",
       " 'andycomputer_sci',\n",
       " 'archer',\n",
       " 'arthur',\n",
       " 'aynfict',\n",
       " 'aynphilosophi',\n",
       " 'bach',\n",
       " 'baz',\n",
       " 'bbcnonfict',\n",
       " 'bell',\n",
       " 'bertrandphilosophi',\n",
       " 'bobhistori',\n",
       " 'bobnonfict',\n",
       " 'bodanis',\n",
       " 'bradsky',\n",
       " 'braithwaitefict',\n",
       " 'brown',\n",
       " 'camus',\n",
       " 'capra',\n",
       " 'carlscienc',\n",
       " 'cedricmathemat',\n",
       " 'charlesfict',\n",
       " 'comic',\n",
       " 'conanfict',\n",
       " 'conway',\n",
       " 'corbett',\n",
       " 'cormen',\n",
       " 'crichton',\n",
       " 'dalrymple',\n",
       " 'danfict',\n",
       " 'daviddata_sci',\n",
       " 'davidsci',\n",
       " 'dawkins',\n",
       " 'deb',\n",
       " 'deshpand',\n",
       " 'deshpande',\n",
       " 'devlin',\n",
       " 'dickens',\n",
       " 'dickinson',\n",
       " 'dominiquefict',\n",
       " 'dominiquehistori',\n",
       " 'dostoevsky',\n",
       " 'downey',\n",
       " 'doyle',\n",
       " 'drewdata_sci',\n",
       " 'drucker',\n",
       " 'dubner',\n",
       " 'duda',\n",
       " 'durant',\n",
       " 'durrell',\n",
       " 'dylan',\n",
       " 'earl',\n",
       " 'econom',\n",
       " 'eddins',\n",
       " 'edgar',\n",
       " 'edwardhistori',\n",
       " 'eraly',\n",
       " 'ericcomputer_sci',\n",
       " 'ernestfict',\n",
       " 'feynman',\n",
       " 'fiction',\n",
       " 'fisk',\n",
       " 'follett',\n",
       " 'foreman',\n",
       " 'forsyth',\n",
       " 'franco',\n",
       " 'frankfict',\n",
       " 'franksignal_process',\n",
       " 'frederickfict',\n",
       " 'friedman',\n",
       " 'fritjofnonfict',\n",
       " 'fritjofsci',\n",
       " 'fyodorfict',\n",
       " 'gardner',\n",
       " 'garg',\n",
       " 'garydata_sci',\n",
       " 'georgefict',\n",
       " 'georgenonfict',\n",
       " 'geraldcomputer_sci',\n",
       " 'geraldfict',\n",
       " 'ghistori',\n",
       " 'ghosh',\n",
       " 'gleick',\n",
       " 'gordon',\n",
       " 'goswami',\n",
       " 'greene',\n",
       " 'grisham',\n",
       " 'gupta',\n",
       " 'gutierrezdata_sci',\n",
       " 'hansberry',\n",
       " 'harris',\n",
       " 'hartdata_sci',\n",
       " 'hawking',\n",
       " 'haykin',\n",
       " 'heisenberg',\n",
       " 'heller',\n",
       " 'hemingway',\n",
       " 'histori',\n",
       " 'hitler',\n",
       " 'hugo',\n",
       " 'huntington',\n",
       " 'hussainnonfict',\n",
       " 'huxley',\n",
       " 'iacoca',\n",
       " 'jaidevasignal_process',\n",
       " 'jamessci',\n",
       " 'janert',\n",
       " 'jawaharlalhistori',\n",
       " 'jeanfict',\n",
       " 'jefferyfict',\n",
       " 'jimnonfict',\n",
       " 'john',\n",
       " 'johndata_sci',\n",
       " 'johnfict',\n",
       " 'johnnonfict',\n",
       " 'jonathanfict',\n",
       " 'josephfict',\n",
       " 'joydata_sci',\n",
       " 'julesfict',\n",
       " 'kafka',\n",
       " 'kale',\n",
       " 'kanetkar',\n",
       " 'kautiylaphilosophi',\n",
       " 'keithscienc',\n",
       " 'kenfict',\n",
       " 'kfiction',\n",
       " 'konnikova',\n",
       " 'kuldiphistori',\n",
       " 'kurtfict',\n",
       " 'lapierre',\n",
       " 'larsson',\n",
       " 'leenonfict',\n",
       " 'leonardsci',\n",
       " 'lfiction',\n",
       " 'lnonfict',\n",
       " 'lorrainefict',\n",
       " 'machiavelliphilosophi',\n",
       " 'madandata_sci',\n",
       " 'mariapsycholog',\n",
       " 'maugham',\n",
       " 'mckinney',\n",
       " 'menon',\n",
       " 'michaelfict',\n",
       " 'michaelhistori',\n",
       " 'mlodinow',\n",
       " 'mohan',\n",
       " 'morrisfict',\n",
       " 'muhammadcomputer_sci',\n",
       " 'naipaul',\n",
       " 'narimannonfict',\n",
       " 'natedata_sci',\n",
       " 'nayar',\n",
       " 'nedcomputer_sci',\n",
       " 'nehru',\n",
       " 'nisbet',\n",
       " 'nonfict',\n",
       " 'oram',\n",
       " 'orwell',\n",
       " 'palkhivalaphilosophi',\n",
       " 'pausch',\n",
       " 'petereconom',\n",
       " 'peterfict',\n",
       " 'peterhistori',\n",
       " 'phillipdata_sci',\n",
       " 'philosophi',\n",
       " 'phistori',\n",
       " 'pirsig',\n",
       " 'pnonfict',\n",
       " 'poe',\n",
       " 'pratt',\n",
       " 'rand',\n",
       " 'randynonfict',\n",
       " 'ranjan',\n",
       " 'rashid',\n",
       " 'raymond',\n",
       " 'richardfict',\n",
       " 'richardnonfict',\n",
       " 'richardsci',\n",
       " 'robertdata_sci',\n",
       " 'roberthistori',\n",
       " 'robertphilosophi',\n",
       " 'rowling',\n",
       " 'russell',\n",
       " 'rutherford',\n",
       " 'sagan',\n",
       " 'said',\n",
       " 'samphilosophi',\n",
       " 'samuelhistori',\n",
       " 'sanjayfict',\n",
       " 'sassoon',\n",
       " 'schillingcomputer_sci',\n",
       " 'sebastian',\n",
       " 'sen',\n",
       " 'sergiocomputer_sci',\n",
       " 'sfiction',\n",
       " 'shashifict',\n",
       " 'shashihistori',\n",
       " 'shashinonfict',\n",
       " 'shih',\n",
       " 'siddharthanonfict',\n",
       " 'silver',\n",
       " 'simondata_sci',\n",
       " 'simonsci',\n",
       " 'singh',\n",
       " 'smith',\n",
       " 'sorabjeenonfict',\n",
       " 'stanleyfict',\n",
       " 'steigfict',\n",
       " 'steinbeck',\n",
       " 'stepheneconom',\n",
       " 'stephenmathemat',\n",
       " 'stephensci',\n",
       " 'stevesignal_process',\n",
       " 'stonier',\n",
       " 'stroud',\n",
       " 'sudhanshuphilosophi',\n",
       " 'sunitanonfict',\n",
       " 'sussman',\n",
       " 'tanenbaum',\n",
       " 'tao',\n",
       " 'taub',\n",
       " 'terencemathemat',\n",
       " 'tharoor',\n",
       " 'thomas',\n",
       " 'thomascomputer_sci',\n",
       " 'thomashistori',\n",
       " 'tmathemat',\n",
       " 'vapnik',\n",
       " 'variouseconom',\n",
       " 'verne',\n",
       " 'victorfict',\n",
       " 'villani',\n",
       " 'vladimirdata_sci',\n",
       " 'vonnegut',\n",
       " 'wells',\n",
       " 'wernersci',\n",
       " 'wesdata_sci',\n",
       " 'west',\n",
       " 'william',\n",
       " 'williamhistori',\n",
       " 'willphilosophi',\n",
       " 'woodward',\n",
       " 'yashwantcomputer_sci',\n",
       " 'zaidi',\n",
       " 'zohar']"
      ]
     },
     "execution_count": 33,
     "metadata": {},
     "output_type": "execute_result"
    }
   ],
   "source": [
    "cv.get_feature_names()"
   ]
  },
  {
   "cell_type": "code",
   "execution_count": 34,
   "id": "8b50927d",
   "metadata": {},
   "outputs": [],
   "source": [
    "from sklearn.metrics.pairwise import cosine_similarity\n",
    "similarities = cosine_similarity(vactors)"
   ]
  },
  {
   "cell_type": "code",
   "execution_count": 54,
   "id": "9ea91ec7",
   "metadata": {},
   "outputs": [
    {
     "data": {
      "text/plain": [
       "(211, 211)"
      ]
     },
     "execution_count": 54,
     "metadata": {},
     "output_type": "execute_result"
    }
   ],
   "source": [
    "similarities.shape"
   ]
  },
  {
   "cell_type": "code",
   "execution_count": 59,
   "id": "7745589d",
   "metadata": {},
   "outputs": [
    {
     "data": {
      "text/plain": [
       "array([0. , 1. , 0. , 0. , 0. , 0. , 0. , 0. , 0. , 0. , 0. , 0. , 0. ,\n",
       "       0. , 0. , 0. , 0.5, 0. , 0. , 0. , 0. , 0. , 0. , 0. , 0. , 0. ,\n",
       "       0. , 0. , 0. , 0. , 0. , 0. , 0. , 0. , 0. , 0. , 0. , 0. , 0. ,\n",
       "       0. , 0. , 0. , 0. , 0. , 0. , 0. , 0. , 0. , 0. , 0. , 0. , 0. ,\n",
       "       0. , 0. , 0. , 0. , 0. , 0. , 0. , 0. , 0. , 0. , 0. , 0. , 0. ,\n",
       "       0. , 0. , 0. , 0. , 0. , 0. , 0. , 0. , 0. , 0. , 0. , 0. , 0. ,\n",
       "       0. , 0. , 0. , 0. , 0. , 0. , 0. , 0. , 0. , 0. , 0. , 0. , 0. ,\n",
       "       0. , 0. , 0. , 0. , 0. , 0. , 0. , 0. , 0. , 0. , 0. , 0. , 0. ,\n",
       "       0. , 0. , 0. , 0. , 0. , 0. , 0. , 0. , 0. , 0. , 0. , 0. , 0. ,\n",
       "       0. , 0. , 0. , 0. , 0. , 0. , 0. , 0. , 0. , 0. , 0. , 0. , 0. ,\n",
       "       0. , 0. , 0. , 0. , 0. , 0. , 0. , 0. , 0. , 0. , 0. , 0. , 0. ,\n",
       "       0. , 0. , 0. , 0. , 0. , 0. , 0. , 0. , 0. , 0. , 0. , 0. , 0. ,\n",
       "       0. , 0. , 0. , 0. , 0. , 0. , 0. , 0. , 0. , 0. , 0. , 0. , 0. ,\n",
       "       0. , 0. , 0. , 0. , 0. , 0. , 0. , 0. , 0. , 0. , 0. , 0. , 0. ,\n",
       "       0. , 0. , 0. , 0. , 0. , 0. , 0. , 0. , 0. , 0. , 0. , 0. , 0. ,\n",
       "       0. , 0. , 0. , 0. , 0. , 0. , 0. , 0. , 0. , 0. , 0. , 0. , 0. ,\n",
       "       0. , 0. , 0. ])"
      ]
     },
     "execution_count": 59,
     "metadata": {},
     "output_type": "execute_result"
    }
   ],
   "source": [
    "similarities[1]"
   ]
  },
  {
   "cell_type": "code",
   "execution_count": null,
   "id": "6598c125",
   "metadata": {},
   "outputs": [],
   "source": [
    "def recommend(book):\n",
    "    book"
   ]
  },
  {
   "cell_type": "code",
   "execution_count": 52,
   "id": "80e4d591",
   "metadata": {},
   "outputs": [
    {
     "data": {
      "text/html": [
       "<div>\n",
       "<style scoped>\n",
       "    .dataframe tbody tr th:only-of-type {\n",
       "        vertical-align: middle;\n",
       "    }\n",
       "\n",
       "    .dataframe tbody tr th {\n",
       "        vertical-align: top;\n",
       "    }\n",
       "\n",
       "    .dataframe thead th {\n",
       "        text-align: right;\n",
       "    }\n",
       "</style>\n",
       "<table border=\"1\" class=\"dataframe\">\n",
       "  <thead>\n",
       "    <tr style=\"text-align: right;\">\n",
       "      <th></th>\n",
       "      <th>Title</th>\n",
       "      <th>Author</th>\n",
       "      <th>Genre</th>\n",
       "      <th>Height</th>\n",
       "      <th>tags</th>\n",
       "    </tr>\n",
       "  </thead>\n",
       "  <tbody>\n",
       "    <tr>\n",
       "      <th>0</th>\n",
       "      <td>Fundamentals of Wavelets</td>\n",
       "      <td>Goswami, Jaideva</td>\n",
       "      <td>signal_processing</td>\n",
       "      <td>228</td>\n",
       "      <td>goswami, jaidevasignal_process</td>\n",
       "    </tr>\n",
       "    <tr>\n",
       "      <th>1</th>\n",
       "      <td>Data Smart</td>\n",
       "      <td>Foreman, John</td>\n",
       "      <td>data_science</td>\n",
       "      <td>235</td>\n",
       "      <td>foreman, johndata_sci</td>\n",
       "    </tr>\n",
       "    <tr>\n",
       "      <th>2</th>\n",
       "      <td>God Created the Integers</td>\n",
       "      <td>Hawking, Stephen</td>\n",
       "      <td>mathematics</td>\n",
       "      <td>197</td>\n",
       "      <td>hawking, stephenmathemat</td>\n",
       "    </tr>\n",
       "    <tr>\n",
       "      <th>3</th>\n",
       "      <td>Superfreakonomics</td>\n",
       "      <td>Dubner, Stephen</td>\n",
       "      <td>economics</td>\n",
       "      <td>179</td>\n",
       "      <td>dubner, stepheneconom</td>\n",
       "    </tr>\n",
       "    <tr>\n",
       "      <th>4</th>\n",
       "      <td>Orientalism</td>\n",
       "      <td>Said, Edward</td>\n",
       "      <td>history</td>\n",
       "      <td>197</td>\n",
       "      <td>said, edwardhistori</td>\n",
       "    </tr>\n",
       "    <tr>\n",
       "      <th>...</th>\n",
       "      <td>...</td>\n",
       "      <td>...</td>\n",
       "      <td>...</td>\n",
       "      <td>...</td>\n",
       "      <td>...</td>\n",
       "    </tr>\n",
       "    <tr>\n",
       "      <th>206</th>\n",
       "      <td>Structure and Randomness</td>\n",
       "      <td>Tao, Terence</td>\n",
       "      <td>mathematics</td>\n",
       "      <td>252</td>\n",
       "      <td>tao, terencemathemat</td>\n",
       "    </tr>\n",
       "    <tr>\n",
       "      <th>207</th>\n",
       "      <td>Image Processing with MATLAB</td>\n",
       "      <td>Eddins, Steve</td>\n",
       "      <td>signal_processing</td>\n",
       "      <td>241</td>\n",
       "      <td>eddins, stevesignal_process</td>\n",
       "    </tr>\n",
       "    <tr>\n",
       "      <th>208</th>\n",
       "      <td>Animal Farm</td>\n",
       "      <td>Orwell, George</td>\n",
       "      <td>fiction</td>\n",
       "      <td>180</td>\n",
       "      <td>orwell, georgefict</td>\n",
       "    </tr>\n",
       "    <tr>\n",
       "      <th>209</th>\n",
       "      <td>Idiot, The</td>\n",
       "      <td>Dostoevsky, Fyodor</td>\n",
       "      <td>fiction</td>\n",
       "      <td>197</td>\n",
       "      <td>dostoevsky, fyodorfict</td>\n",
       "    </tr>\n",
       "    <tr>\n",
       "      <th>210</th>\n",
       "      <td>Christmas Carol, A</td>\n",
       "      <td>Dickens, Charles</td>\n",
       "      <td>fiction</td>\n",
       "      <td>196</td>\n",
       "      <td>dickens, charlesfict</td>\n",
       "    </tr>\n",
       "  </tbody>\n",
       "</table>\n",
       "<p>211 rows × 5 columns</p>\n",
       "</div>"
      ],
      "text/plain": [
       "                            Title              Author              Genre  \\\n",
       "0        Fundamentals of Wavelets    Goswami, Jaideva  signal_processing   \n",
       "1                      Data Smart       Foreman, John       data_science   \n",
       "2        God Created the Integers    Hawking, Stephen        mathematics   \n",
       "3               Superfreakonomics     Dubner, Stephen          economics   \n",
       "4                     Orientalism        Said, Edward            history   \n",
       "..                            ...                 ...                ...   \n",
       "206      Structure and Randomness        Tao, Terence        mathematics   \n",
       "207  Image Processing with MATLAB       Eddins, Steve  signal_processing   \n",
       "208                   Animal Farm      Orwell, George            fiction   \n",
       "209                    Idiot, The  Dostoevsky, Fyodor            fiction   \n",
       "210            Christmas Carol, A    Dickens, Charles            fiction   \n",
       "\n",
       "     Height                            tags  \n",
       "0       228  goswami, jaidevasignal_process  \n",
       "1       235           foreman, johndata_sci  \n",
       "2       197        hawking, stephenmathemat  \n",
       "3       179           dubner, stepheneconom  \n",
       "4       197             said, edwardhistori  \n",
       "..      ...                             ...  \n",
       "206     252            tao, terencemathemat  \n",
       "207     241     eddins, stevesignal_process  \n",
       "208     180              orwell, georgefict  \n",
       "209     197          dostoevsky, fyodorfict  \n",
       "210     196            dickens, charlesfict  \n",
       "\n",
       "[211 rows x 5 columns]"
      ]
     },
     "execution_count": 52,
     "metadata": {},
     "output_type": "execute_result"
    }
   ],
   "source": [
    "data"
   ]
  },
  {
   "cell_type": "code",
   "execution_count": null,
   "id": "5273fbdb",
   "metadata": {},
   "outputs": [],
   "source": []
  }
 ],
 "metadata": {
  "kernelspec": {
   "display_name": "Python 3 (ipykernel)",
   "language": "python",
   "name": "python3"
  },
  "language_info": {
   "codemirror_mode": {
    "name": "ipython",
    "version": 3
   },
   "file_extension": ".py",
   "mimetype": "text/x-python",
   "name": "python",
   "nbconvert_exporter": "python",
   "pygments_lexer": "ipython3",
   "version": "3.10.6"
  }
 },
 "nbformat": 4,
 "nbformat_minor": 5
}
